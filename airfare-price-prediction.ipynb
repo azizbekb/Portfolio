{
 "cells": [
  {
   "cell_type": "code",
   "execution_count": 1,
   "id": "ae026b16",
   "metadata": {
    "_cell_guid": "b1076dfc-b9ad-4769-8c92-a6c4dae69d19",
    "_uuid": "8f2839f25d086af736a60e9eeb907d3b93b6e0e5",
    "execution": {
     "iopub.execute_input": "2023-07-02T11:36:51.910653Z",
     "iopub.status.busy": "2023-07-02T11:36:51.910145Z",
     "iopub.status.idle": "2023-07-02T11:36:51.927901Z",
     "shell.execute_reply": "2023-07-02T11:36:51.926583Z"
    },
    "papermill": {
     "duration": 0.029565,
     "end_time": "2023-07-02T11:36:51.930367",
     "exception": false,
     "start_time": "2023-07-02T11:36:51.900802",
     "status": "completed"
    },
    "tags": []
   },
   "outputs": [
    {
     "name": "stdout",
     "output_type": "stream",
     "text": [
      "/kaggle/input/aviachipta-narxini-bashorat-qilish/train_data.csv\n",
      "/kaggle/input/aviachipta-narxini-bashorat-qilish/test_data.csv\n",
      "/kaggle/input/aviachipta-narxini-bashorat-qilish/sample_solution.csv\n"
     ]
    }
   ],
   "source": [
    "# This Python 3 environment comes with many helpful analytics libraries installed\n",
    "# It is defined by the kaggle/python Docker image: https://github.com/kaggle/docker-python\n",
    "# For example, here's several helpful packages to load\n",
    "\n",
    "import numpy as np # linear algebra\n",
    "import pandas as pd # data processing, CSV file I/O (e.g. pd.read_csv)\n",
    "\n",
    "# Input data files are available in the read-only \"../input/\" directory\n",
    "# For example, running this (by clicking run or pressing Shift+Enter) will list all files under the input directory\n",
    "\n",
    "import os\n",
    "for dirname, _, filenames in os.walk('/kaggle/input'):\n",
    "    for filename in filenames:\n",
    "        print(os.path.join(dirname, filename))\n",
    "\n",
    "# You can write up to 20GB to the current directory (/kaggle/working/) that gets preserved as output when you create a version using \"Save & Run All\" \n",
    "# You can also write temporary files to /kaggle/temp/, but they won't be saved outside of the current session"
   ]
  },
  {
   "cell_type": "code",
   "execution_count": 2,
   "id": "33390ac4",
   "metadata": {
    "execution": {
     "iopub.execute_input": "2023-07-02T11:36:51.946869Z",
     "iopub.status.busy": "2023-07-02T11:36:51.946495Z",
     "iopub.status.idle": "2023-07-02T11:36:53.948030Z",
     "shell.execute_reply": "2023-07-02T11:36:53.946753Z"
    },
    "papermill": {
     "duration": 2.012759,
     "end_time": "2023-07-02T11:36:53.951000",
     "exception": false,
     "start_time": "2023-07-02T11:36:51.938241",
     "status": "completed"
    },
    "tags": []
   },
   "outputs": [],
   "source": [
    "import pandas as pd\n",
    "import numpy as np\n",
    "from sklearn.model_selection import train_test_split\n",
    "from sklearn.preprocessing import OneHotEncoder, StandardScaler\n",
    "from sklearn.compose import ColumnTransformer\n",
    "from sklearn.pipeline import Pipeline\n",
    "from sklearn.linear_model import LinearRegression\n",
    "from sklearn.metrics import mean_squared_error\n",
    "from sklearn.tree import DecisionTreeRegressor"
   ]
  },
  {
   "cell_type": "markdown",
   "id": "081b758e",
   "metadata": {
    "papermill": {
     "duration": 0.006233,
     "end_time": "2023-07-02T11:36:53.964458",
     "exception": false,
     "start_time": "2023-07-02T11:36:53.958225",
     "status": "completed"
    },
    "tags": []
   },
   "source": [
    "## Dataset"
   ]
  },
  {
   "cell_type": "code",
   "execution_count": 3,
   "id": "038c5d05",
   "metadata": {
    "execution": {
     "iopub.execute_input": "2023-07-02T11:36:53.979675Z",
     "iopub.status.busy": "2023-07-02T11:36:53.979165Z",
     "iopub.status.idle": "2023-07-02T11:36:54.107944Z",
     "shell.execute_reply": "2023-07-02T11:36:54.106775Z"
    },
    "papermill": {
     "duration": 0.139543,
     "end_time": "2023-07-02T11:36:54.110527",
     "exception": false,
     "start_time": "2023-07-02T11:36:53.970984",
     "status": "completed"
    },
    "tags": []
   },
   "outputs": [
    {
     "data": {
      "text/html": [
       "<div>\n",
       "<style scoped>\n",
       "    .dataframe tbody tr th:only-of-type {\n",
       "        vertical-align: middle;\n",
       "    }\n",
       "\n",
       "    .dataframe tbody tr th {\n",
       "        vertical-align: top;\n",
       "    }\n",
       "\n",
       "    .dataframe thead th {\n",
       "        text-align: right;\n",
       "    }\n",
       "</style>\n",
       "<table border=\"1\" class=\"dataframe\">\n",
       "  <thead>\n",
       "    <tr style=\"text-align: right;\">\n",
       "      <th></th>\n",
       "      <th>airline</th>\n",
       "      <th>flight</th>\n",
       "      <th>source_city</th>\n",
       "      <th>departure_time</th>\n",
       "      <th>stops</th>\n",
       "      <th>arrival_time</th>\n",
       "      <th>destination_city</th>\n",
       "      <th>class</th>\n",
       "      <th>duration</th>\n",
       "      <th>days_left</th>\n",
       "      <th>price</th>\n",
       "    </tr>\n",
       "    <tr>\n",
       "      <th>id</th>\n",
       "      <th></th>\n",
       "      <th></th>\n",
       "      <th></th>\n",
       "      <th></th>\n",
       "      <th></th>\n",
       "      <th></th>\n",
       "      <th></th>\n",
       "      <th></th>\n",
       "      <th></th>\n",
       "      <th></th>\n",
       "      <th></th>\n",
       "    </tr>\n",
       "  </thead>\n",
       "  <tbody>\n",
       "    <tr>\n",
       "      <th>1</th>\n",
       "      <td>Vistara</td>\n",
       "      <td>UK-810</td>\n",
       "      <td>Bangalore</td>\n",
       "      <td>Early_Morning</td>\n",
       "      <td>one</td>\n",
       "      <td>Night</td>\n",
       "      <td>Mumbai</td>\n",
       "      <td>Economy</td>\n",
       "      <td>14.25</td>\n",
       "      <td>21</td>\n",
       "      <td>7212</td>\n",
       "    </tr>\n",
       "    <tr>\n",
       "      <th>2</th>\n",
       "      <td>SpiceJet</td>\n",
       "      <td>SG-5094</td>\n",
       "      <td>Hyderabad</td>\n",
       "      <td>Evening</td>\n",
       "      <td>zero</td>\n",
       "      <td>Night</td>\n",
       "      <td>Kolkata</td>\n",
       "      <td>Economy</td>\n",
       "      <td>1.75</td>\n",
       "      <td>7</td>\n",
       "      <td>5292</td>\n",
       "    </tr>\n",
       "    <tr>\n",
       "      <th>3</th>\n",
       "      <td>Vistara</td>\n",
       "      <td>UK-846</td>\n",
       "      <td>Bangalore</td>\n",
       "      <td>Morning</td>\n",
       "      <td>one</td>\n",
       "      <td>Evening</td>\n",
       "      <td>Delhi</td>\n",
       "      <td>Business</td>\n",
       "      <td>9.58</td>\n",
       "      <td>5</td>\n",
       "      <td>60553</td>\n",
       "    </tr>\n",
       "    <tr>\n",
       "      <th>4</th>\n",
       "      <td>Vistara</td>\n",
       "      <td>UK-706</td>\n",
       "      <td>Kolkata</td>\n",
       "      <td>Morning</td>\n",
       "      <td>one</td>\n",
       "      <td>Evening</td>\n",
       "      <td>Hyderabad</td>\n",
       "      <td>Economy</td>\n",
       "      <td>6.75</td>\n",
       "      <td>28</td>\n",
       "      <td>5760</td>\n",
       "    </tr>\n",
       "    <tr>\n",
       "      <th>5</th>\n",
       "      <td>Indigo</td>\n",
       "      <td>6E-5394</td>\n",
       "      <td>Chennai</td>\n",
       "      <td>Early_Morning</td>\n",
       "      <td>zero</td>\n",
       "      <td>Morning</td>\n",
       "      <td>Mumbai</td>\n",
       "      <td>Economy</td>\n",
       "      <td>2.00</td>\n",
       "      <td>4</td>\n",
       "      <td>10712</td>\n",
       "    </tr>\n",
       "  </tbody>\n",
       "</table>\n",
       "</div>"
      ],
      "text/plain": [
       "     airline   flight source_city departure_time stops arrival_time  \\\n",
       "id                                                                    \n",
       "1    Vistara   UK-810   Bangalore  Early_Morning   one        Night   \n",
       "2   SpiceJet  SG-5094   Hyderabad        Evening  zero        Night   \n",
       "3    Vistara   UK-846   Bangalore        Morning   one      Evening   \n",
       "4    Vistara   UK-706     Kolkata        Morning   one      Evening   \n",
       "5     Indigo  6E-5394     Chennai  Early_Morning  zero      Morning   \n",
       "\n",
       "   destination_city     class  duration  days_left  price  \n",
       "id                                                         \n",
       "1            Mumbai   Economy     14.25         21   7212  \n",
       "2           Kolkata   Economy      1.75          7   5292  \n",
       "3             Delhi  Business      9.58          5  60553  \n",
       "4         Hyderabad   Economy      6.75         28   5760  \n",
       "5            Mumbai   Economy      2.00          4  10712  "
      ]
     },
     "execution_count": 3,
     "metadata": {},
     "output_type": "execute_result"
    }
   ],
   "source": [
    "df=pd.read_csv(\"/kaggle/input/aviachipta-narxini-bashorat-qilish/train_data.csv\", index_col=0)\n",
    "df.head()"
   ]
  },
  {
   "cell_type": "code",
   "execution_count": 4,
   "id": "06bb6577",
   "metadata": {
    "execution": {
     "iopub.execute_input": "2023-07-02T11:36:54.126984Z",
     "iopub.status.busy": "2023-07-02T11:36:54.126531Z",
     "iopub.status.idle": "2023-07-02T11:36:54.180228Z",
     "shell.execute_reply": "2023-07-02T11:36:54.179283Z"
    },
    "papermill": {
     "duration": 0.064722,
     "end_time": "2023-07-02T11:36:54.182488",
     "exception": false,
     "start_time": "2023-07-02T11:36:54.117766",
     "status": "completed"
    },
    "tags": []
   },
   "outputs": [
    {
     "data": {
      "text/html": [
       "<div>\n",
       "<style scoped>\n",
       "    .dataframe tbody tr th:only-of-type {\n",
       "        vertical-align: middle;\n",
       "    }\n",
       "\n",
       "    .dataframe tbody tr th {\n",
       "        vertical-align: top;\n",
       "    }\n",
       "\n",
       "    .dataframe thead th {\n",
       "        text-align: right;\n",
       "    }\n",
       "</style>\n",
       "<table border=\"1\" class=\"dataframe\">\n",
       "  <thead>\n",
       "    <tr style=\"text-align: right;\">\n",
       "      <th></th>\n",
       "      <th>airline</th>\n",
       "      <th>flight</th>\n",
       "      <th>source_city</th>\n",
       "      <th>departure_time</th>\n",
       "      <th>stops</th>\n",
       "      <th>arrival_time</th>\n",
       "      <th>destination_city</th>\n",
       "      <th>class</th>\n",
       "      <th>duration</th>\n",
       "      <th>days_left</th>\n",
       "      <th>price</th>\n",
       "    </tr>\n",
       "    <tr>\n",
       "      <th>id</th>\n",
       "      <th></th>\n",
       "      <th></th>\n",
       "      <th></th>\n",
       "      <th></th>\n",
       "      <th></th>\n",
       "      <th></th>\n",
       "      <th></th>\n",
       "      <th></th>\n",
       "      <th></th>\n",
       "      <th></th>\n",
       "      <th></th>\n",
       "    </tr>\n",
       "  </thead>\n",
       "  <tbody>\n",
       "    <tr>\n",
       "      <th>1</th>\n",
       "      <td>Vistara</td>\n",
       "      <td>UK-810</td>\n",
       "      <td>Bangalore</td>\n",
       "      <td>Early_Morning</td>\n",
       "      <td>1</td>\n",
       "      <td>Night</td>\n",
       "      <td>Mumbai</td>\n",
       "      <td>0</td>\n",
       "      <td>14.25</td>\n",
       "      <td>21</td>\n",
       "      <td>7212</td>\n",
       "    </tr>\n",
       "    <tr>\n",
       "      <th>2</th>\n",
       "      <td>SpiceJet</td>\n",
       "      <td>SG-5094</td>\n",
       "      <td>Hyderabad</td>\n",
       "      <td>Evening</td>\n",
       "      <td>0</td>\n",
       "      <td>Night</td>\n",
       "      <td>Kolkata</td>\n",
       "      <td>0</td>\n",
       "      <td>1.75</td>\n",
       "      <td>7</td>\n",
       "      <td>5292</td>\n",
       "    </tr>\n",
       "    <tr>\n",
       "      <th>3</th>\n",
       "      <td>Vistara</td>\n",
       "      <td>UK-846</td>\n",
       "      <td>Bangalore</td>\n",
       "      <td>Morning</td>\n",
       "      <td>1</td>\n",
       "      <td>Evening</td>\n",
       "      <td>Delhi</td>\n",
       "      <td>1</td>\n",
       "      <td>9.58</td>\n",
       "      <td>5</td>\n",
       "      <td>60553</td>\n",
       "    </tr>\n",
       "    <tr>\n",
       "      <th>4</th>\n",
       "      <td>Vistara</td>\n",
       "      <td>UK-706</td>\n",
       "      <td>Kolkata</td>\n",
       "      <td>Morning</td>\n",
       "      <td>1</td>\n",
       "      <td>Evening</td>\n",
       "      <td>Hyderabad</td>\n",
       "      <td>0</td>\n",
       "      <td>6.75</td>\n",
       "      <td>28</td>\n",
       "      <td>5760</td>\n",
       "    </tr>\n",
       "    <tr>\n",
       "      <th>5</th>\n",
       "      <td>Indigo</td>\n",
       "      <td>6E-5394</td>\n",
       "      <td>Chennai</td>\n",
       "      <td>Early_Morning</td>\n",
       "      <td>0</td>\n",
       "      <td>Morning</td>\n",
       "      <td>Mumbai</td>\n",
       "      <td>0</td>\n",
       "      <td>2.00</td>\n",
       "      <td>4</td>\n",
       "      <td>10712</td>\n",
       "    </tr>\n",
       "  </tbody>\n",
       "</table>\n",
       "</div>"
      ],
      "text/plain": [
       "     airline   flight source_city departure_time  stops arrival_time  \\\n",
       "id                                                                     \n",
       "1    Vistara   UK-810   Bangalore  Early_Morning      1        Night   \n",
       "2   SpiceJet  SG-5094   Hyderabad        Evening      0        Night   \n",
       "3    Vistara   UK-846   Bangalore        Morning      1      Evening   \n",
       "4    Vistara   UK-706     Kolkata        Morning      1      Evening   \n",
       "5     Indigo  6E-5394     Chennai  Early_Morning      0      Morning   \n",
       "\n",
       "   destination_city  class  duration  days_left  price  \n",
       "id                                                      \n",
       "1            Mumbai      0     14.25         21   7212  \n",
       "2           Kolkata      0      1.75          7   5292  \n",
       "3             Delhi      1      9.58          5  60553  \n",
       "4         Hyderabad      0      6.75         28   5760  \n",
       "5            Mumbai      0      2.00          4  10712  "
      ]
     },
     "execution_count": 4,
     "metadata": {},
     "output_type": "execute_result"
    }
   ],
   "source": [
    "df['stops'] = df['stops'].replace({'one': 1, 'zero': 0, 'two_or_more': 2})\n",
    "df['class'] = df['class'].replace({'Economy': 0, 'Business': 1})\n",
    "df.head()"
   ]
  },
  {
   "cell_type": "code",
   "execution_count": 5,
   "id": "6c21b40c",
   "metadata": {
    "execution": {
     "iopub.execute_input": "2023-07-02T11:36:54.200368Z",
     "iopub.status.busy": "2023-07-02T11:36:54.199734Z",
     "iopub.status.idle": "2023-07-02T11:36:54.265446Z",
     "shell.execute_reply": "2023-07-02T11:36:54.264115Z"
    },
    "papermill": {
     "duration": 0.07871,
     "end_time": "2023-07-02T11:36:54.268345",
     "exception": false,
     "start_time": "2023-07-02T11:36:54.189635",
     "status": "completed"
    },
    "tags": []
   },
   "outputs": [
    {
     "name": "stdout",
     "output_type": "stream",
     "text": [
      "<class 'pandas.core.frame.DataFrame'>\n",
      "Int64Index: 20000 entries, 1 to 20000\n",
      "Data columns (total 11 columns):\n",
      " #   Column            Non-Null Count  Dtype  \n",
      "---  ------            --------------  -----  \n",
      " 0   airline           20000 non-null  object \n",
      " 1   flight            20000 non-null  object \n",
      " 2   source_city       20000 non-null  object \n",
      " 3   departure_time    20000 non-null  object \n",
      " 4   stops             20000 non-null  int64  \n",
      " 5   arrival_time      20000 non-null  object \n",
      " 6   destination_city  20000 non-null  object \n",
      " 7   class             20000 non-null  int64  \n",
      " 8   duration          20000 non-null  float64\n",
      " 9   days_left         20000 non-null  int64  \n",
      " 10  price             20000 non-null  int64  \n",
      "dtypes: float64(1), int64(4), object(6)\n",
      "memory usage: 1.8+ MB\n"
     ]
    }
   ],
   "source": [
    "df.info()"
   ]
  },
  {
   "cell_type": "markdown",
   "id": "d81bd531",
   "metadata": {
    "papermill": {
     "duration": 0.007075,
     "end_time": "2023-07-02T11:36:54.283622",
     "exception": false,
     "start_time": "2023-07-02T11:36:54.276547",
     "status": "completed"
    },
    "tags": []
   },
   "source": [
    "## Preparation for ML"
   ]
  },
  {
   "cell_type": "code",
   "execution_count": 6,
   "id": "2e3997dc",
   "metadata": {
    "execution": {
     "iopub.execute_input": "2023-07-02T11:36:54.301093Z",
     "iopub.status.busy": "2023-07-02T11:36:54.300646Z",
     "iopub.status.idle": "2023-07-02T11:36:54.322662Z",
     "shell.execute_reply": "2023-07-02T11:36:54.321132Z"
    },
    "papermill": {
     "duration": 0.034665,
     "end_time": "2023-07-02T11:36:54.326053",
     "exception": false,
     "start_time": "2023-07-02T11:36:54.291388",
     "status": "completed"
    },
    "tags": []
   },
   "outputs": [],
   "source": [
    "X_train=df.drop('price', axis=1)\n",
    "y=df['price']\n",
    "\n",
    "train_set, test_set=train_test_split(df, test_size=0.2, random_state=42)"
   ]
  },
  {
   "cell_type": "code",
   "execution_count": 7,
   "id": "e4df0f65",
   "metadata": {
    "execution": {
     "iopub.execute_input": "2023-07-02T11:36:54.343874Z",
     "iopub.status.busy": "2023-07-02T11:36:54.343464Z",
     "iopub.status.idle": "2023-07-02T11:36:54.352691Z",
     "shell.execute_reply": "2023-07-02T11:36:54.350786Z"
    },
    "papermill": {
     "duration": 0.022618,
     "end_time": "2023-07-02T11:36:54.356275",
     "exception": false,
     "start_time": "2023-07-02T11:36:54.333657",
     "status": "completed"
    },
    "tags": []
   },
   "outputs": [],
   "source": [
    "num_attribs=['stops', 'class', 'duration', 'days_left']\n",
    "cat_attribs=['airline', 'flight', 'source_city', 'departure_time', 'arrival_time', 'destination_city']\n",
    "\n",
    "num_pipeline = Pipeline([\n",
    "    ('scaler', StandardScaler())\n",
    "])\n",
    "\n",
    "cat_pipeline = Pipeline([\n",
    "    ('encoder', OneHotEncoder(handle_unknown='ignore'))\n",
    "])\n",
    "\n",
    "full_pipeline = ColumnTransformer([\n",
    "    ('num', num_pipeline, num_attribs),\n",
    "    ('cat', cat_pipeline, cat_attribs)\n",
    "])"
   ]
  },
  {
   "cell_type": "code",
   "execution_count": 8,
   "id": "23b5376a",
   "metadata": {
    "execution": {
     "iopub.execute_input": "2023-07-02T11:36:54.374180Z",
     "iopub.status.busy": "2023-07-02T11:36:54.373760Z",
     "iopub.status.idle": "2023-07-02T11:36:54.673419Z",
     "shell.execute_reply": "2023-07-02T11:36:54.672409Z"
    },
    "papermill": {
     "duration": 0.312018,
     "end_time": "2023-07-02T11:36:54.675966",
     "exception": false,
     "start_time": "2023-07-02T11:36:54.363948",
     "status": "completed"
    },
    "tags": []
   },
   "outputs": [
    {
     "data": {
      "text/plain": [
       "array([[ 0.19281382, -0.67396452,  0.28952803, ...,  0.        ,\n",
       "         0.        ,  1.        ],\n",
       "       [-2.30154354, -0.67396452, -1.45682723, ...,  0.        ,\n",
       "         1.        ,  0.        ],\n",
       "       [ 0.19281382,  1.48375764, -0.36291029, ...,  0.        ,\n",
       "         0.        ,  0.        ],\n",
       "       [ 0.19281382, -0.67396452, -0.75828512, ...,  1.        ,\n",
       "         0.        ,  0.        ],\n",
       "       [-2.30154354, -0.67396452, -1.42190012, ...,  0.        ,\n",
       "         0.        ,  1.        ]])"
      ]
     },
     "execution_count": 8,
     "metadata": {},
     "output_type": "execute_result"
    }
   ],
   "source": [
    "X_prepared = full_pipeline.fit_transform(X_train)\n",
    "X_prepared.toarray()[0:5,:]"
   ]
  },
  {
   "cell_type": "markdown",
   "id": "bfcd4921",
   "metadata": {
    "papermill": {
     "duration": 0.007223,
     "end_time": "2023-07-02T11:36:54.690708",
     "exception": false,
     "start_time": "2023-07-02T11:36:54.683485",
     "status": "completed"
    },
    "tags": []
   },
   "source": [
    "## ML\n",
    "### Linear Regression"
   ]
  },
  {
   "cell_type": "code",
   "execution_count": 9,
   "id": "33d0ef78",
   "metadata": {
    "execution": {
     "iopub.execute_input": "2023-07-02T11:36:54.708462Z",
     "iopub.status.busy": "2023-07-02T11:36:54.707953Z",
     "iopub.status.idle": "2023-07-02T11:36:55.748270Z",
     "shell.execute_reply": "2023-07-02T11:36:55.746759Z"
    },
    "papermill": {
     "duration": 1.053933,
     "end_time": "2023-07-02T11:36:55.752265",
     "exception": false,
     "start_time": "2023-07-02T11:36:54.698332",
     "status": "completed"
    },
    "tags": []
   },
   "outputs": [
    {
     "data": {
      "text/html": [
       "<style>#sk-container-id-1 {color: black;background-color: white;}#sk-container-id-1 pre{padding: 0;}#sk-container-id-1 div.sk-toggleable {background-color: white;}#sk-container-id-1 label.sk-toggleable__label {cursor: pointer;display: block;width: 100%;margin-bottom: 0;padding: 0.3em;box-sizing: border-box;text-align: center;}#sk-container-id-1 label.sk-toggleable__label-arrow:before {content: \"▸\";float: left;margin-right: 0.25em;color: #696969;}#sk-container-id-1 label.sk-toggleable__label-arrow:hover:before {color: black;}#sk-container-id-1 div.sk-estimator:hover label.sk-toggleable__label-arrow:before {color: black;}#sk-container-id-1 div.sk-toggleable__content {max-height: 0;max-width: 0;overflow: hidden;text-align: left;background-color: #f0f8ff;}#sk-container-id-1 div.sk-toggleable__content pre {margin: 0.2em;color: black;border-radius: 0.25em;background-color: #f0f8ff;}#sk-container-id-1 input.sk-toggleable__control:checked~div.sk-toggleable__content {max-height: 200px;max-width: 100%;overflow: auto;}#sk-container-id-1 input.sk-toggleable__control:checked~label.sk-toggleable__label-arrow:before {content: \"▾\";}#sk-container-id-1 div.sk-estimator input.sk-toggleable__control:checked~label.sk-toggleable__label {background-color: #d4ebff;}#sk-container-id-1 div.sk-label input.sk-toggleable__control:checked~label.sk-toggleable__label {background-color: #d4ebff;}#sk-container-id-1 input.sk-hidden--visually {border: 0;clip: rect(1px 1px 1px 1px);clip: rect(1px, 1px, 1px, 1px);height: 1px;margin: -1px;overflow: hidden;padding: 0;position: absolute;width: 1px;}#sk-container-id-1 div.sk-estimator {font-family: monospace;background-color: #f0f8ff;border: 1px dotted black;border-radius: 0.25em;box-sizing: border-box;margin-bottom: 0.5em;}#sk-container-id-1 div.sk-estimator:hover {background-color: #d4ebff;}#sk-container-id-1 div.sk-parallel-item::after {content: \"\";width: 100%;border-bottom: 1px solid gray;flex-grow: 1;}#sk-container-id-1 div.sk-label:hover label.sk-toggleable__label {background-color: #d4ebff;}#sk-container-id-1 div.sk-serial::before {content: \"\";position: absolute;border-left: 1px solid gray;box-sizing: border-box;top: 0;bottom: 0;left: 50%;z-index: 0;}#sk-container-id-1 div.sk-serial {display: flex;flex-direction: column;align-items: center;background-color: white;padding-right: 0.2em;padding-left: 0.2em;position: relative;}#sk-container-id-1 div.sk-item {position: relative;z-index: 1;}#sk-container-id-1 div.sk-parallel {display: flex;align-items: stretch;justify-content: center;background-color: white;position: relative;}#sk-container-id-1 div.sk-item::before, #sk-container-id-1 div.sk-parallel-item::before {content: \"\";position: absolute;border-left: 1px solid gray;box-sizing: border-box;top: 0;bottom: 0;left: 50%;z-index: -1;}#sk-container-id-1 div.sk-parallel-item {display: flex;flex-direction: column;z-index: 1;position: relative;background-color: white;}#sk-container-id-1 div.sk-parallel-item:first-child::after {align-self: flex-end;width: 50%;}#sk-container-id-1 div.sk-parallel-item:last-child::after {align-self: flex-start;width: 50%;}#sk-container-id-1 div.sk-parallel-item:only-child::after {width: 0;}#sk-container-id-1 div.sk-dashed-wrapped {border: 1px dashed gray;margin: 0 0.4em 0.5em 0.4em;box-sizing: border-box;padding-bottom: 0.4em;background-color: white;}#sk-container-id-1 div.sk-label label {font-family: monospace;font-weight: bold;display: inline-block;line-height: 1.2em;}#sk-container-id-1 div.sk-label-container {text-align: center;}#sk-container-id-1 div.sk-container {/* jupyter's `normalize.less` sets `[hidden] { display: none; }` but bootstrap.min.css set `[hidden] { display: none !important; }` so we also need the `!important` here to be able to override the default hidden behavior on the sphinx rendered scikit-learn.org. See: https://github.com/scikit-learn/scikit-learn/issues/21755 */display: inline-block !important;position: relative;}#sk-container-id-1 div.sk-text-repr-fallback {display: none;}</style><div id=\"sk-container-id-1\" class=\"sk-top-container\"><div class=\"sk-text-repr-fallback\"><pre>LinearRegression()</pre><b>In a Jupyter environment, please rerun this cell to show the HTML representation or trust the notebook. <br />On GitHub, the HTML representation is unable to render, please try loading this page with nbviewer.org.</b></div><div class=\"sk-container\" hidden><div class=\"sk-item\"><div class=\"sk-estimator sk-toggleable\"><input class=\"sk-toggleable__control sk-hidden--visually\" id=\"sk-estimator-id-1\" type=\"checkbox\" checked><label for=\"sk-estimator-id-1\" class=\"sk-toggleable__label sk-toggleable__label-arrow\">LinearRegression</label><div class=\"sk-toggleable__content\"><pre>LinearRegression()</pre></div></div></div></div></div>"
      ],
      "text/plain": [
       "LinearRegression()"
      ]
     },
     "execution_count": 9,
     "metadata": {},
     "output_type": "execute_result"
    }
   ],
   "source": [
    "LR_model=LinearRegression()\n",
    "LR_model.fit(X_prepared, y)"
   ]
  },
  {
   "cell_type": "code",
   "execution_count": 10,
   "id": "f7d47585",
   "metadata": {
    "execution": {
     "iopub.execute_input": "2023-07-02T11:36:55.786810Z",
     "iopub.status.busy": "2023-07-02T11:36:55.786115Z",
     "iopub.status.idle": "2023-07-02T11:36:55.806101Z",
     "shell.execute_reply": "2023-07-02T11:36:55.804515Z"
    },
    "papermill": {
     "duration": 0.042782,
     "end_time": "2023-07-02T11:36:55.811168",
     "exception": false,
     "start_time": "2023-07-02T11:36:55.768386",
     "status": "completed"
    },
    "tags": []
   },
   "outputs": [
    {
     "name": "stdout",
     "output_type": "stream",
     "text": [
      "6112.051554417245\n"
     ]
    }
   ],
   "source": [
    "predict = LR_model.predict(X_prepared)\n",
    "\n",
    "lin_mse=mean_squared_error(y, predict)\n",
    "lin_rmse=np.sqrt(lin_mse)\n",
    "print(lin_rmse)"
   ]
  },
  {
   "cell_type": "code",
   "execution_count": 11,
   "id": "916ff1e1",
   "metadata": {
    "execution": {
     "iopub.execute_input": "2023-07-02T11:36:55.848066Z",
     "iopub.status.busy": "2023-07-02T11:36:55.847373Z",
     "iopub.status.idle": "2023-07-02T11:36:55.856426Z",
     "shell.execute_reply": "2023-07-02T11:36:55.855119Z"
    },
    "papermill": {
     "duration": 0.030563,
     "end_time": "2023-07-02T11:36:55.858976",
     "exception": false,
     "start_time": "2023-07-02T11:36:55.828413",
     "status": "completed"
    },
    "tags": []
   },
   "outputs": [],
   "source": [
    "X_test=test_set.drop('price', axis=1)\n",
    "y_test=test_set['price'].copy()"
   ]
  },
  {
   "cell_type": "code",
   "execution_count": 12,
   "id": "71619d75",
   "metadata": {
    "execution": {
     "iopub.execute_input": "2023-07-02T11:36:55.876666Z",
     "iopub.status.busy": "2023-07-02T11:36:55.876269Z",
     "iopub.status.idle": "2023-07-02T11:36:55.906143Z",
     "shell.execute_reply": "2023-07-02T11:36:55.904836Z"
    },
    "papermill": {
     "duration": 0.04198,
     "end_time": "2023-07-02T11:36:55.908826",
     "exception": false,
     "start_time": "2023-07-02T11:36:55.866846",
     "status": "completed"
    },
    "tags": []
   },
   "outputs": [
    {
     "name": "stdout",
     "output_type": "stream",
     "text": [
      "6063.987317490167\n"
     ]
    }
   ],
   "source": [
    "X_test_prepared = full_pipeline.transform(X_test)\n",
    "\n",
    "predict = LR_model.predict(X_test_prepared)\n",
    "\n",
    "lin_mse=mean_squared_error(y_test, predict)\n",
    "lin_rmse=np.sqrt(lin_mse)\n",
    "print(lin_rmse)"
   ]
  },
  {
   "cell_type": "markdown",
   "id": "ef97b4a5",
   "metadata": {
    "papermill": {
     "duration": 0.007625,
     "end_time": "2023-07-02T11:36:55.924590",
     "exception": false,
     "start_time": "2023-07-02T11:36:55.916965",
     "status": "completed"
    },
    "tags": []
   },
   "source": [
    "### Decision Tree Regression"
   ]
  },
  {
   "cell_type": "code",
   "execution_count": 13,
   "id": "9531c200",
   "metadata": {
    "execution": {
     "iopub.execute_input": "2023-07-02T11:36:55.942491Z",
     "iopub.status.busy": "2023-07-02T11:36:55.942107Z",
     "iopub.status.idle": "2023-07-02T11:36:57.643767Z",
     "shell.execute_reply": "2023-07-02T11:36:57.642687Z"
    },
    "papermill": {
     "duration": 1.713856,
     "end_time": "2023-07-02T11:36:57.646304",
     "exception": false,
     "start_time": "2023-07-02T11:36:55.932448",
     "status": "completed"
    },
    "tags": []
   },
   "outputs": [
    {
     "data": {
      "text/html": [
       "<style>#sk-container-id-2 {color: black;background-color: white;}#sk-container-id-2 pre{padding: 0;}#sk-container-id-2 div.sk-toggleable {background-color: white;}#sk-container-id-2 label.sk-toggleable__label {cursor: pointer;display: block;width: 100%;margin-bottom: 0;padding: 0.3em;box-sizing: border-box;text-align: center;}#sk-container-id-2 label.sk-toggleable__label-arrow:before {content: \"▸\";float: left;margin-right: 0.25em;color: #696969;}#sk-container-id-2 label.sk-toggleable__label-arrow:hover:before {color: black;}#sk-container-id-2 div.sk-estimator:hover label.sk-toggleable__label-arrow:before {color: black;}#sk-container-id-2 div.sk-toggleable__content {max-height: 0;max-width: 0;overflow: hidden;text-align: left;background-color: #f0f8ff;}#sk-container-id-2 div.sk-toggleable__content pre {margin: 0.2em;color: black;border-radius: 0.25em;background-color: #f0f8ff;}#sk-container-id-2 input.sk-toggleable__control:checked~div.sk-toggleable__content {max-height: 200px;max-width: 100%;overflow: auto;}#sk-container-id-2 input.sk-toggleable__control:checked~label.sk-toggleable__label-arrow:before {content: \"▾\";}#sk-container-id-2 div.sk-estimator input.sk-toggleable__control:checked~label.sk-toggleable__label {background-color: #d4ebff;}#sk-container-id-2 div.sk-label input.sk-toggleable__control:checked~label.sk-toggleable__label {background-color: #d4ebff;}#sk-container-id-2 input.sk-hidden--visually {border: 0;clip: rect(1px 1px 1px 1px);clip: rect(1px, 1px, 1px, 1px);height: 1px;margin: -1px;overflow: hidden;padding: 0;position: absolute;width: 1px;}#sk-container-id-2 div.sk-estimator {font-family: monospace;background-color: #f0f8ff;border: 1px dotted black;border-radius: 0.25em;box-sizing: border-box;margin-bottom: 0.5em;}#sk-container-id-2 div.sk-estimator:hover {background-color: #d4ebff;}#sk-container-id-2 div.sk-parallel-item::after {content: \"\";width: 100%;border-bottom: 1px solid gray;flex-grow: 1;}#sk-container-id-2 div.sk-label:hover label.sk-toggleable__label {background-color: #d4ebff;}#sk-container-id-2 div.sk-serial::before {content: \"\";position: absolute;border-left: 1px solid gray;box-sizing: border-box;top: 0;bottom: 0;left: 50%;z-index: 0;}#sk-container-id-2 div.sk-serial {display: flex;flex-direction: column;align-items: center;background-color: white;padding-right: 0.2em;padding-left: 0.2em;position: relative;}#sk-container-id-2 div.sk-item {position: relative;z-index: 1;}#sk-container-id-2 div.sk-parallel {display: flex;align-items: stretch;justify-content: center;background-color: white;position: relative;}#sk-container-id-2 div.sk-item::before, #sk-container-id-2 div.sk-parallel-item::before {content: \"\";position: absolute;border-left: 1px solid gray;box-sizing: border-box;top: 0;bottom: 0;left: 50%;z-index: -1;}#sk-container-id-2 div.sk-parallel-item {display: flex;flex-direction: column;z-index: 1;position: relative;background-color: white;}#sk-container-id-2 div.sk-parallel-item:first-child::after {align-self: flex-end;width: 50%;}#sk-container-id-2 div.sk-parallel-item:last-child::after {align-self: flex-start;width: 50%;}#sk-container-id-2 div.sk-parallel-item:only-child::after {width: 0;}#sk-container-id-2 div.sk-dashed-wrapped {border: 1px dashed gray;margin: 0 0.4em 0.5em 0.4em;box-sizing: border-box;padding-bottom: 0.4em;background-color: white;}#sk-container-id-2 div.sk-label label {font-family: monospace;font-weight: bold;display: inline-block;line-height: 1.2em;}#sk-container-id-2 div.sk-label-container {text-align: center;}#sk-container-id-2 div.sk-container {/* jupyter's `normalize.less` sets `[hidden] { display: none; }` but bootstrap.min.css set `[hidden] { display: none !important; }` so we also need the `!important` here to be able to override the default hidden behavior on the sphinx rendered scikit-learn.org. See: https://github.com/scikit-learn/scikit-learn/issues/21755 */display: inline-block !important;position: relative;}#sk-container-id-2 div.sk-text-repr-fallback {display: none;}</style><div id=\"sk-container-id-2\" class=\"sk-top-container\"><div class=\"sk-text-repr-fallback\"><pre>DecisionTreeRegressor()</pre><b>In a Jupyter environment, please rerun this cell to show the HTML representation or trust the notebook. <br />On GitHub, the HTML representation is unable to render, please try loading this page with nbviewer.org.</b></div><div class=\"sk-container\" hidden><div class=\"sk-item\"><div class=\"sk-estimator sk-toggleable\"><input class=\"sk-toggleable__control sk-hidden--visually\" id=\"sk-estimator-id-2\" type=\"checkbox\" checked><label for=\"sk-estimator-id-2\" class=\"sk-toggleable__label sk-toggleable__label-arrow\">DecisionTreeRegressor</label><div class=\"sk-toggleable__content\"><pre>DecisionTreeRegressor()</pre></div></div></div></div></div>"
      ],
      "text/plain": [
       "DecisionTreeRegressor()"
      ]
     },
     "execution_count": 13,
     "metadata": {},
     "output_type": "execute_result"
    }
   ],
   "source": [
    "Tree_model = DecisionTreeRegressor()\n",
    "Tree_model.fit(X_prepared, y)"
   ]
  },
  {
   "cell_type": "code",
   "execution_count": 14,
   "id": "f0646bd6",
   "metadata": {
    "execution": {
     "iopub.execute_input": "2023-07-02T11:36:57.665794Z",
     "iopub.status.busy": "2023-07-02T11:36:57.665112Z",
     "iopub.status.idle": "2023-07-02T11:36:57.674981Z",
     "shell.execute_reply": "2023-07-02T11:36:57.673749Z"
    },
    "papermill": {
     "duration": 0.022882,
     "end_time": "2023-07-02T11:36:57.677654",
     "exception": false,
     "start_time": "2023-07-02T11:36:57.654772",
     "status": "completed"
    },
    "tags": []
   },
   "outputs": [
    {
     "name": "stdout",
     "output_type": "stream",
     "text": [
      "13.858681845687922\n"
     ]
    }
   ],
   "source": [
    "y_predicted = Tree_model.predict(X_test_prepared)\n",
    "\n",
    "lin_mse=mean_squared_error(y_test, y_predicted)\n",
    "lin_rmse=np.sqrt(lin_mse)\n",
    "print(lin_rmse)"
   ]
  },
  {
   "cell_type": "code",
   "execution_count": 15,
   "id": "fb3d14ca",
   "metadata": {
    "execution": {
     "iopub.execute_input": "2023-07-02T11:36:57.696266Z",
     "iopub.status.busy": "2023-07-02T11:36:57.695725Z",
     "iopub.status.idle": "2023-07-02T11:36:57.715117Z",
     "shell.execute_reply": "2023-07-02T11:36:57.713751Z"
    },
    "papermill": {
     "duration": 0.031568,
     "end_time": "2023-07-02T11:36:57.717757",
     "exception": false,
     "start_time": "2023-07-02T11:36:57.686189",
     "status": "completed"
    },
    "tags": []
   },
   "outputs": [
    {
     "data": {
      "text/html": [
       "<div>\n",
       "<style scoped>\n",
       "    .dataframe tbody tr th:only-of-type {\n",
       "        vertical-align: middle;\n",
       "    }\n",
       "\n",
       "    .dataframe tbody tr th {\n",
       "        vertical-align: top;\n",
       "    }\n",
       "\n",
       "    .dataframe thead th {\n",
       "        text-align: right;\n",
       "    }\n",
       "</style>\n",
       "<table border=\"1\" class=\"dataframe\">\n",
       "  <thead>\n",
       "    <tr style=\"text-align: right;\">\n",
       "      <th></th>\n",
       "      <th>Predict</th>\n",
       "      <th>Real price</th>\n",
       "    </tr>\n",
       "    <tr>\n",
       "      <th>id</th>\n",
       "      <th></th>\n",
       "      <th></th>\n",
       "    </tr>\n",
       "  </thead>\n",
       "  <tbody>\n",
       "    <tr>\n",
       "      <th>10651</th>\n",
       "      <td>5361.0</td>\n",
       "      <td>5361</td>\n",
       "    </tr>\n",
       "    <tr>\n",
       "      <th>2042</th>\n",
       "      <td>50297.0</td>\n",
       "      <td>50297</td>\n",
       "    </tr>\n",
       "    <tr>\n",
       "      <th>8669</th>\n",
       "      <td>60232.0</td>\n",
       "      <td>60232</td>\n",
       "    </tr>\n",
       "    <tr>\n",
       "      <th>1115</th>\n",
       "      <td>74365.0</td>\n",
       "      <td>74365</td>\n",
       "    </tr>\n",
       "    <tr>\n",
       "      <th>13903</th>\n",
       "      <td>4417.0</td>\n",
       "      <td>4417</td>\n",
       "    </tr>\n",
       "    <tr>\n",
       "      <th>...</th>\n",
       "      <td>...</td>\n",
       "      <td>...</td>\n",
       "    </tr>\n",
       "    <tr>\n",
       "      <th>4074</th>\n",
       "      <td>10228.0</td>\n",
       "      <td>10228</td>\n",
       "    </tr>\n",
       "    <tr>\n",
       "      <th>7443</th>\n",
       "      <td>12544.0</td>\n",
       "      <td>12544</td>\n",
       "    </tr>\n",
       "    <tr>\n",
       "      <th>10000</th>\n",
       "      <td>5276.0</td>\n",
       "      <td>5276</td>\n",
       "    </tr>\n",
       "    <tr>\n",
       "      <th>1871</th>\n",
       "      <td>79548.0</td>\n",
       "      <td>79548</td>\n",
       "    </tr>\n",
       "    <tr>\n",
       "      <th>15197</th>\n",
       "      <td>2456.0</td>\n",
       "      <td>2456</td>\n",
       "    </tr>\n",
       "  </tbody>\n",
       "</table>\n",
       "<p>4000 rows × 2 columns</p>\n",
       "</div>"
      ],
      "text/plain": [
       "       Predict  Real price\n",
       "id                        \n",
       "10651   5361.0        5361\n",
       "2042   50297.0       50297\n",
       "8669   60232.0       60232\n",
       "1115   74365.0       74365\n",
       "13903   4417.0        4417\n",
       "...        ...         ...\n",
       "4074   10228.0       10228\n",
       "7443   12544.0       12544\n",
       "10000   5276.0        5276\n",
       "1871   79548.0       79548\n",
       "15197   2456.0        2456\n",
       "\n",
       "[4000 rows x 2 columns]"
      ]
     },
     "execution_count": 15,
     "metadata": {},
     "output_type": "execute_result"
    }
   ],
   "source": [
    "pd.DataFrame({'Predict':y_predicted, 'Real price':y_test})"
   ]
  }
 ],
 "metadata": {
  "kernelspec": {
   "display_name": "Python 3",
   "language": "python",
   "name": "python3"
  },
  "language_info": {
   "codemirror_mode": {
    "name": "ipython",
    "version": 3
   },
   "file_extension": ".py",
   "mimetype": "text/x-python",
   "name": "python",
   "nbconvert_exporter": "python",
   "pygments_lexer": "ipython3",
   "version": "3.10.10"
  },
  "papermill": {
   "default_parameters": {},
   "duration": 19.886668,
   "end_time": "2023-07-02T11:36:58.751029",
   "environment_variables": {},
   "exception": null,
   "input_path": "__notebook__.ipynb",
   "output_path": "__notebook__.ipynb",
   "parameters": {},
   "start_time": "2023-07-02T11:36:38.864361",
   "version": "2.4.0"
  }
 },
 "nbformat": 4,
 "nbformat_minor": 5
}
